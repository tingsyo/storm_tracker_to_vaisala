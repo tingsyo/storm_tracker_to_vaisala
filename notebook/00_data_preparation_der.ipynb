{
 "cells": [
  {
   "cell_type": "markdown",
   "metadata": {},
   "source": [
    "# Data Preparation\n",
    "\n",
    "這篇記錄是參考 der 的工作，準備 calibration 用的資料。"
   ]
  },
  {
   "cell_type": "code",
   "execution_count": 5,
   "metadata": {},
   "outputs": [
    {
     "name": "stdout",
     "output_type": "stream",
     "text": [
      "Total records: 215\n",
      "         date                              uri\n",
      "0  2020010812  ../data/CO/46692-2020010812.dat\n",
      "1  2020010900  ../data/CO/46692-2020010900.dat\n",
      "2  2020010912  ../data/CO/46692-2020010912.dat\n",
      "3  2020011000  ../data/CO/46692-2020011000.dat\n",
      "4  2020011012  ../data/CO/46692-2020011012.dat\n"
     ]
    }
   ],
   "source": [
    "import numpy as np\n",
    "import pandas as pd\n",
    "import sys, os, csv, logging, argparse\n",
    "\n",
    "# Scan for data files\n",
    "datapath = '../data/CO/'\n",
    "datafiles = []\n",
    "for root, dirs, files in os.walk(datapath): \n",
    "    for fn in files: \n",
    "        if fn.endswith('.dat'): \n",
    "             datafiles.append({'date':fn.replace('46692-','').replace('.dat',''), 'uri':os.path.join(root, fn)})\n",
    "datafiles = pd.DataFrame(datafiles)\n",
    "print(\"Total records: \"+str(datafiles.shape[0]))\n",
    "print(datafiles.head())\n",
    "\n",
    "# Read climate statistics\n",
    "climate_mean = np.load(\"../data/climate_mean.npy\")\n",
    "climate_std = np.load(\"../data/climate_std.npy\")\n"
   ]
  },
  {
   "cell_type": "code",
   "execution_count": null,
   "metadata": {},
   "outputs": [],
   "source": [
    "def preprocess_dat(furi):\n",
    "    data = np.fromfile(furi, dtype=np.float32)\n",
    "    n = int(data.shape[0]/20)\n",
    "    data = data.reshape(n,20)\n",
    "    # elimaniate the data not used\n",
    "    data = np.delete(data,16,1)\n",
    "    data = np.delete(data,16,1)\n",
    "    data = np.delete(data,16,1)\n",
    "    data = np.delete(data,12,1)\n",
    "    data = np.delete(data,6,1)\n",
    "    data = np.delete(data,6,1)\n",
    "    data = np.delete(data,6,1)\n",
    "    data = np.delete(data,2,1)\n",
    "    "
   ]
  }
 ],
 "metadata": {
  "kernelspec": {
   "display_name": "Python 3",
   "language": "python",
   "name": "python3"
  },
  "language_info": {
   "codemirror_mode": {
    "name": "ipython",
    "version": 3
   },
   "file_extension": ".py",
   "mimetype": "text/x-python",
   "name": "python",
   "nbconvert_exporter": "python",
   "pygments_lexer": "ipython3",
   "version": "3.7.9"
  }
 },
 "nbformat": 4,
 "nbformat_minor": 4
}
