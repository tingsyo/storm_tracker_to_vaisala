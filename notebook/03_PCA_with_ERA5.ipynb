{
 "cells": [
  {
   "cell_type": "markdown",
   "metadata": {},
   "source": [
    "# PCA with EC-ERA5\n",
    "\n",
    "In the [first notebook](https://github.com/tingsyo/taiwan_weather_types/blob/main/notebook/01_PCA_based_Clustering.ipynb) we performed clustering with PCA results derived from NECT-CFSR dataset, and here we will do similar analysis with the EC-ERA5 dataset.\n",
    "\n",
    "The ERA5 dataset was preprocess as single variable in netCDF4 format (.nc file). The data domain focuses on East Asia (10-50'N, 100-140'E) with a resolution of (161, 161) (0.25 degree interval). Scripts to perform the PCA analysis were [`ipca_era5.py`](https://github.com/tingsyo/taiwan_weather_types/blob/main/utils/ipca_era5.py) and [`run_ipca_era5.sh`](https://github.com/tingsyo/taiwan_weather_types/blob/main/utils/run_era5_ipca.sh).\n",
    "\n",
    "In the following we will just use the results of PCA."
   ]
  },
  {
   "cell_type": "code",
   "execution_count": 1,
   "metadata": {},
   "outputs": [
    {
     "data": {
      "text/html": [
       "<div>\n",
       "<style scoped>\n",
       "    .dataframe tbody tr th:only-of-type {\n",
       "        vertical-align: middle;\n",
       "    }\n",
       "\n",
       "    .dataframe tbody tr th {\n",
       "        vertical-align: top;\n",
       "    }\n",
       "\n",
       "    .dataframe thead th {\n",
       "        text-align: right;\n",
       "    }\n",
       "</style>\n",
       "<table border=\"1\" class=\"dataframe\">\n",
       "  <thead>\n",
       "    <tr style=\"text-align: right;\">\n",
       "      <th></th>\n",
       "      <th>timestamp</th>\n",
       "      <th>year</th>\n",
       "      <th>month</th>\n",
       "      <th>day</th>\n",
       "      <th>hour</th>\n",
       "    </tr>\n",
       "  </thead>\n",
       "  <tbody>\n",
       "    <tr>\n",
       "      <th>0</th>\n",
       "      <td>1979010100</td>\n",
       "      <td>1979</td>\n",
       "      <td>1</td>\n",
       "      <td>1</td>\n",
       "      <td>0</td>\n",
       "    </tr>\n",
       "    <tr>\n",
       "      <th>1</th>\n",
       "      <td>1979010200</td>\n",
       "      <td>1979</td>\n",
       "      <td>1</td>\n",
       "      <td>2</td>\n",
       "      <td>0</td>\n",
       "    </tr>\n",
       "    <tr>\n",
       "      <th>2</th>\n",
       "      <td>1979010300</td>\n",
       "      <td>1979</td>\n",
       "      <td>1</td>\n",
       "      <td>3</td>\n",
       "      <td>0</td>\n",
       "    </tr>\n",
       "    <tr>\n",
       "      <th>3</th>\n",
       "      <td>1979010400</td>\n",
       "      <td>1979</td>\n",
       "      <td>1</td>\n",
       "      <td>4</td>\n",
       "      <td>0</td>\n",
       "    </tr>\n",
       "    <tr>\n",
       "      <th>4</th>\n",
       "      <td>1979010500</td>\n",
       "      <td>1979</td>\n",
       "      <td>1</td>\n",
       "      <td>5</td>\n",
       "      <td>0</td>\n",
       "    </tr>\n",
       "  </tbody>\n",
       "</table>\n",
       "</div>"
      ],
      "text/plain": [
       "    timestamp  year  month  day  hour\n",
       "0  1979010100  1979      1    1     0\n",
       "1  1979010200  1979      1    2     0\n",
       "2  1979010300  1979      1    3     0\n",
       "3  1979010400  1979      1    4     0\n",
       "4  1979010500  1979      1    5     0"
      ]
     },
     "execution_count": 1,
     "metadata": {},
     "output_type": "execute_result"
    }
   ],
   "source": [
    "import joblib\n",
    "import numpy as np\n",
    "from sklearn.decomposition import PCA, IncrementalPCA\n",
    "import pandas as pd\n",
    "# Defined Parameters\n",
    "MODEL_PATH = '../data/pca_era5'\n",
    "LAYERS = ['q925','t925','u925','v925','q800','t800','u800','v800','q700','t700','u700','v700','h500','u200','v200']\n",
    "ts = pd.read_csv('../data/era5_timestamp.csv')\n",
    "ts.head()"
   ]
  },
  {
   "cell_type": "code",
   "execution_count": 3,
   "metadata": {},
   "outputs": [
    {
     "name": "stdout",
     "output_type": "stream",
     "text": [
      "[0.84469425 0.89534185 0.92990369 0.94918399 0.96028474 0.96989363\n",
      " 0.97481601 0.97900806 0.98285091 0.98571433 0.98758365 0.98892287\n",
      " 0.99025766 0.99133559 0.99219327 0.99293092 0.99355441 0.99411804\n",
      " 0.99456543 0.99494337 0.99527978 0.99558428 0.99588309 0.99615418\n",
      " 0.99640423 0.99660879 0.99680068 0.99696565 0.99712413 0.99728123\n",
      " 0.99742019 0.99754613 0.9976523  0.99775401 0.99784742 0.99793727\n",
      " 0.99802466 0.99810715 0.99818696 0.99825575 0.99832236 0.99838066\n",
      " 0.99843456 0.99848791 0.99853715 0.99858533 0.99863121 0.99867442\n",
      " 0.99871592 0.99875551]\n"
     ]
    }
   ],
   "source": [
    "h500 = joblib.load('../data/pca_era5/h500.pca.mod')\n",
    "print(np.cumsum(h500.explained_variance_ratio_))"
   ]
  },
  {
   "cell_type": "code",
   "execution_count": null,
   "metadata": {},
   "outputs": [],
   "source": []
  }
 ],
 "metadata": {
  "kernelspec": {
   "display_name": "Python 3",
   "language": "python",
   "name": "python3"
  },
  "language_info": {
   "codemirror_mode": {
    "name": "ipython",
    "version": 3
   },
   "file_extension": ".py",
   "mimetype": "text/x-python",
   "name": "python",
   "nbconvert_exporter": "python",
   "pygments_lexer": "ipython3",
   "version": "3.7.9"
  }
 },
 "nbformat": 4,
 "nbformat_minor": 4
}
