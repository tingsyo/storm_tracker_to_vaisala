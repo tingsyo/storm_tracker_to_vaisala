{
 "cells": [
  {
   "cell_type": "markdown",
   "metadata": {},
   "source": [
    "# Data Preparation\n",
    "\n",
    "這篇筆記是記錄基本的資料讀取。\n",
    "\n",
    "## 前期準備\n",
    "\n",
    "### 基本設定\n",
    "\n",
    "首先，我們先導入需要用到的函式庫，設定基本的參數與資料路徑。資料檔的欄位名稱儲存在 `header_file` 裡面。"
   ]
  },
  {
   "cell_type": "code",
   "execution_count": 3,
   "metadata": {},
   "outputs": [
    {
     "data": {
      "text/plain": [
       "Index(['Station', 'instrument', 'P', 'H', 'T', 'RH', 'U', 'V', 'Rad.'], dtype='object')"
      ]
     },
     "execution_count": 3,
     "metadata": {},
     "output_type": "execute_result"
    }
   ],
   "source": [
    "# 載入函式庫\n",
    "import numpy as np\n",
    "import pandas as pd\n",
    "import os, sys, csv\n",
    "\n",
    "# 定義路徑\n",
    "header_file = '../../data/readme.csv'\n",
    "ST_PATH = '../../data/ST/'\n",
    "VS_PATH = '../../data/VS/'\n",
    "\n",
    "# 測試讀取欄位名稱\n",
    "header = pd.read_csv(header_file).columns\n",
    "header"
   ]
  },
  {
   "cell_type": "markdown",
   "metadata": {},
   "source": [
    "### 清點並檢查檔案\n",
    "\n",
    "我們先利用 `os.walk()` 搜尋資料夾裡的所有檔案，"
   ]
  },
  {
   "cell_type": "code",
   "execution_count": 5,
   "metadata": {},
   "outputs": [
    {
     "name": "stdout",
     "output_type": "stream",
     "text": [
      "VS files: (412, 2)\n",
      "ST files: (412, 2)\n",
      "After merging: (412, 3)\n",
      "          time                                    uri_vs  \\\n",
      "0  20180625_06  ../../data/VS/Banqiao_20180625_06_VS.csv   \n",
      "1  20180626_00  ../../data/VS/Banqiao_20180626_00_VS.csv   \n",
      "2  20180626_03  ../../data/VS/Banqiao_20180626_03_VS.csv   \n",
      "3  20180627_03  ../../data/VS/Banqiao_20180627_03_VS.csv   \n",
      "4  20180627_06  ../../data/VS/Banqiao_20180627_06_VS.csv   \n",
      "\n",
      "                                     uri_st  \n",
      "0  ../../data/ST/Banqiao_20180625_06_ST.csv  \n",
      "1  ../../data/ST/Banqiao_20180626_00_ST.csv  \n",
      "2  ../../data/ST/Banqiao_20180626_03_ST.csv  \n",
      "3  ../../data/ST/Banqiao_20180627_03_ST.csv  \n",
      "4  ../../data/ST/Banqiao_20180627_06_ST.csv  \n"
     ]
    }
   ],
   "source": [
    "# Holders for data files\n",
    "ST_files = []\n",
    "VS_files = []\n",
    "\n",
    "# Scan for ST files\n",
    "for root, dirs, files in os.walk(ST_PATH): \n",
    "    for fn in files: \n",
    "        if fn.endswith('.csv'): \n",
    "             ST_files.append({'time':fn.replace('Banqiao_','').replace('_ST.csv',''), 'uri':os.path.join(root, fn)})\n",
    "ST_files = pd.DataFrame(ST_files)\n",
    "\n",
    "# Scan for VS files\n",
    "for root, dirs, files in os.walk(VS_PATH): \n",
    "    for fn in files: \n",
    "        if fn.endswith('.csv'): \n",
    "             VS_files.append({'time':fn.replace('Banqiao_','').replace('_VS.csv',''), 'uri':os.path.join(root, fn)})\n",
    "VS_files = pd.DataFrame(VS_files)\n",
    "\n",
    "# Merge by time stamp\n",
    "datafiles = pd.merge(VS_files, ST_files, on='time', suffixes=('_vs', '_st'))\n",
    "\n",
    "print(\"VS files: \"+str(VS_files.shape))\n",
    "print(\"ST files: \"+str(ST_files.shape))\n",
    "print(\"After merging: \"+str(datafiles.shape))\n",
    "print(datafiles.head())"
   ]
  },
  {
   "cell_type": "code",
   "execution_count": 7,
   "metadata": {},
   "outputs": [
    {
     "name": "stdout",
     "output_type": "stream",
     "text": [
      "Read from file: ../../data/VS/Banqiao_20180625_06_VS.csv, data dimension: (701, 9)\n",
      "Read from file: ../../data/ST/Banqiao_20180625_06_ST.csv, data dimension: (701, 9)\n"
     ]
    }
   ],
   "source": [
    "# Function to read single sounding file in CSV format\n",
    "def read_sounding_csv(furi, colnames=['Station', 'instrument', 'P', 'H', 'T', 'RH', 'U', 'V', 'Rad.'], verbose=0):\n",
    "    import pandas as pd\n",
    "    data = pd.read_csv(furi, names=colnames)\n",
    "    if verbose>0:\n",
    "        print('Read from file: '+furi+', data dimension: '+str(data.shape))\n",
    "    return(data)\n",
    "\n",
    "data_vs = read_sounding_csv(datafiles['uri_vs'].iloc[0], verbose=1)\n",
    "data_st = read_sounding_csv(datafiles['uri_st'].iloc[0], verbose=1)\n"
   ]
  },
  {
   "cell_type": "code",
   "execution_count": null,
   "metadata": {},
   "outputs": [],
   "source": []
  }
 ],
 "metadata": {
  "kernelspec": {
   "display_name": "Python 3",
   "language": "python",
   "name": "python3"
  },
  "language_info": {
   "codemirror_mode": {
    "name": "ipython",
    "version": 3
   },
   "file_extension": ".py",
   "mimetype": "text/x-python",
   "name": "python",
   "nbconvert_exporter": "python",
   "pygments_lexer": "ipython3",
   "version": "3.7.9"
  }
 },
 "nbformat": 4,
 "nbformat_minor": 4
}
