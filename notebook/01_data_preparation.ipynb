{
 "cells": [
  {
   "cell_type": "markdown",
   "metadata": {},
   "source": [
    "# Data Preparation\n",
    "\n",
    "這篇筆記是記錄基本的資料讀取。\n",
    "\n",
    "## 前期準備\n",
    "\n",
    "### 基本設定\n",
    "\n",
    "首先，我們先導入需要用到的函式庫，設定基本的參數與資料路徑。資料檔的欄位名稱儲存在 `header_file` 裡面。"
   ]
  },
  {
   "cell_type": "code",
   "execution_count": 1,
   "metadata": {},
   "outputs": [
    {
     "data": {
      "text/plain": [
       "Index(['Station', 'instrument', 'P', 'H', 'T', 'RH', 'U', 'V', 'Rad.'], dtype='object')"
      ]
     },
     "execution_count": 1,
     "metadata": {},
     "output_type": "execute_result"
    }
   ],
   "source": [
    "# 載入函式庫\n",
    "import numpy as np\n",
    "import pandas as pd\n",
    "import os, sys, csv\n",
    "\n",
    "# 定義路徑\n",
    "header_file = '../../data/readme.csv'\n",
    "ST_PATH = '../../data/ST/'\n",
    "VS_PATH = '../../data/VS/'\n",
    "\n",
    "# 測試讀取欄位名稱\n",
    "header = pd.read_csv(header_file).columns\n",
    "header"
   ]
  },
  {
   "cell_type": "markdown",
   "metadata": {},
   "source": [
    "### 清點並檢查檔案\n",
    "\n",
    "我們先利用 `os.walk()` 搜尋資料夾裡的所有檔案，擷取檔名裡的日期時間（YYYYMMDD_HH），然後把同時間的檔名放在同一列。"
   ]
  },
  {
   "cell_type": "code",
   "execution_count": 2,
   "metadata": {},
   "outputs": [
    {
     "name": "stdout",
     "output_type": "stream",
     "text": [
      "VS files: (412, 2)\n",
      "ST files: (412, 2)\n",
      "After merging: (412, 3)\n",
      "          time                                    uri_vs  \\\n",
      "0  20180625_06  ../../data/VS/Banqiao_20180625_06_VS.csv   \n",
      "1  20180626_00  ../../data/VS/Banqiao_20180626_00_VS.csv   \n",
      "2  20180626_03  ../../data/VS/Banqiao_20180626_03_VS.csv   \n",
      "3  20180627_03  ../../data/VS/Banqiao_20180627_03_VS.csv   \n",
      "4  20180627_06  ../../data/VS/Banqiao_20180627_06_VS.csv   \n",
      "\n",
      "                                     uri_st  \n",
      "0  ../../data/ST/Banqiao_20180625_06_ST.csv  \n",
      "1  ../../data/ST/Banqiao_20180626_00_ST.csv  \n",
      "2  ../../data/ST/Banqiao_20180626_03_ST.csv  \n",
      "3  ../../data/ST/Banqiao_20180627_03_ST.csv  \n",
      "4  ../../data/ST/Banqiao_20180627_06_ST.csv  \n"
     ]
    }
   ],
   "source": [
    "# Holders for data files\n",
    "ST_files = []\n",
    "VS_files = []\n",
    "\n",
    "# Scan for ST files\n",
    "for root, dirs, files in os.walk(ST_PATH): \n",
    "    for fn in files: \n",
    "        if fn.endswith('.csv'): \n",
    "             ST_files.append({'time':fn.replace('Banqiao_','').replace('_ST.csv',''), 'uri':os.path.join(root, fn)})\n",
    "ST_files = pd.DataFrame(ST_files)\n",
    "\n",
    "# Scan for VS files\n",
    "for root, dirs, files in os.walk(VS_PATH): \n",
    "    for fn in files: \n",
    "        if fn.endswith('.csv'): \n",
    "             VS_files.append({'time':fn.replace('Banqiao_','').replace('_VS.csv',''), 'uri':os.path.join(root, fn)})\n",
    "VS_files = pd.DataFrame(VS_files)\n",
    "\n",
    "# Merge by time stamp\n",
    "datafiles = pd.merge(VS_files, ST_files, on='time', suffixes=('_vs', '_st'))\n",
    "\n",
    "print(\"VS files: \"+str(VS_files.shape))\n",
    "print(\"ST files: \"+str(ST_files.shape))\n",
    "print(\"After merging: \"+str(datafiles.shape))\n",
    "print(datafiles.head())"
   ]
  },
  {
   "cell_type": "markdown",
   "metadata": {},
   "source": [
    "### 讀取單一探空資料檔\n",
    "\n",
    "接下來我們設計一個簡單的函數，給定探空資料檔案的路徑，就讀取內容並回傳。"
   ]
  },
  {
   "cell_type": "code",
   "execution_count": 3,
   "metadata": {},
   "outputs": [
    {
     "name": "stdout",
     "output_type": "stream",
     "text": [
      "Read from file: ../../data/VS/Banqiao_20180625_06_VS.csv, data dimension: (701, 9)\n",
      "   Station instrument     P           H      T         RH     U     V  \\\n",
      "0  Banqiao         VS  1000   86.400012  31.50  62.920001  2.56 -0.66   \n",
      "1  Banqiao         VS   999   96.000017  31.40  63.100000  2.70 -0.70   \n",
      "2  Banqiao         VS   998  105.200020  31.32  63.180000  2.88 -0.70   \n",
      "3  Banqiao         VS   997  116.000010  31.20  63.500000  3.00 -0.70   \n",
      "4  Banqiao         VS   996  123.750020  31.10  63.725001  3.10 -0.70   \n",
      "\n",
      "        Rad.  \n",
      "0  1202.1257  \n",
      "1  1202.1257  \n",
      "2  1202.1257  \n",
      "3  1202.1257  \n",
      "4  1202.1257  \n",
      "Read from file: ../../data/ST/Banqiao_20180625_06_ST.csv, data dimension: (701, 9)\n",
      "   Station instrument     P          H          T         RH         U  \\\n",
      "0  Banqiao         ST  1000  144.16883  33.504632  62.417895 -1.217775   \n",
      "1  Banqiao         ST   999  160.91323  33.362504  62.662493  2.042479   \n",
      "2  Banqiao         ST   998  175.45446  33.183320  63.166699  5.502851   \n",
      "3  Banqiao         ST   997  187.45056  33.025238  63.756463  1.987596   \n",
      "4  Banqiao         ST   996  197.61818  32.892530  64.291565  6.566753   \n",
      "\n",
      "          V       Rad.  \n",
      "0 -1.217775  1202.1287  \n",
      "1  2.042479  1202.1286  \n",
      "2  5.502851  1202.1272  \n",
      "3  1.987596  1202.1269  \n",
      "4  6.566753  1202.1259  \n"
     ]
    }
   ],
   "source": [
    "# Function to read single sounding file in CSV format\n",
    "def read_sounding_csv(furi, colnames=['Station', 'instrument', 'P', 'H', 'T', 'RH', 'U', 'V', 'Rad.'], verbose=0):\n",
    "    import pandas as pd\n",
    "    data = pd.read_csv(furi, names=colnames)\n",
    "    if verbose>0:\n",
    "        print('Read from file: '+furi+', data dimension: '+str(data.shape))\n",
    "    return(data)\n",
    "\n",
    "data_vs = read_sounding_csv(datafiles['uri_vs'].iloc[0], verbose=1)\n",
    "print(data_vs.head())\n",
    "\n",
    "data_st = read_sounding_csv(datafiles['uri_st'].iloc[0], verbose=1)\n",
    "print(data_st.head())"
   ]
  },
  {
   "cell_type": "markdown",
   "metadata": {},
   "source": [
    "### 資料配對\n",
    "\n",
    "我們需要將 storm-track (ST) 的 T 和 RH 校正到 Vaisala (VS) 的值，假設氣壓（P）的值兩邊都是正確的，因此配對完的資料應該有以下欄位：\n",
    "\n",
    "- **time**: 觀測時間，格式為 YYYYMMDD_HH\n",
    "- **P**: 氣壓值，假設兩種儀器是一致的\n",
    "- **H_vs**: Vaisala 的高度\n",
    "- **T_vs**: Vaisala 的溫度\n",
    "- **RH_vs**: Vaisala 的相對濕度\n",
    "- **U_vs**: Vaisala 的緯向風\n",
    "- **V_vs**: Vaisala 的經向風\n",
    "- **H_st**: storm-track 的高度\n",
    "- **T_st**: storm-track 的溫度\n",
    "- **RH_st**: storm-track 的相對濕度\n",
    "- **U_st**: storm-track 的緯向風\n",
    "- **V_st**: storm-track 的經向風\n",
    "\n"
   ]
  },
  {
   "cell_type": "code",
   "execution_count": 4,
   "metadata": {},
   "outputs": [
    {
     "name": "stdout",
     "output_type": "stream",
     "text": [
      "Read from file: ../../data/VS/Banqiao_20180625_06_VS.csv, data dimension: (701, 9)\n",
      "Read from file: ../../data/ST/Banqiao_20180625_06_ST.csv, data dimension: (701, 9)\n",
      "(701, 13)\n",
      "      P        H_vs   T_vs      RH_vs  U_vs  V_vs       H_st       T_st  \\\n",
      "0  1000   86.400012  31.50  62.920001  2.56 -0.66  144.16883  33.504632   \n",
      "1   999   96.000017  31.40  63.100000  2.70 -0.70  160.91323  33.362504   \n",
      "2   998  105.200020  31.32  63.180000  2.88 -0.70  175.45446  33.183320   \n",
      "3   997  116.000010  31.20  63.500000  3.00 -0.70  187.45056  33.025238   \n",
      "4   996  123.750020  31.10  63.725001  3.10 -0.70  197.61818  32.892530   \n",
      "\n",
      "       RH_st      U_st      V_st         time               key  \n",
      "0  62.417895 -1.217775 -1.217775  20180625_06  20180625_06_1000  \n",
      "1  62.662493  2.042479  2.042479  20180625_06   20180625_06_999  \n",
      "2  63.166699  5.502851  5.502851  20180625_06   20180625_06_998  \n",
      "3  63.756463  1.987596  1.987596  20180625_06   20180625_06_997  \n",
      "4  64.291565  6.566753  6.566753  20180625_06   20180625_06_996  \n"
     ]
    }
   ],
   "source": [
    "def create_aligned_data(timestamp, vsfile, stfile):\n",
    "    vsdata = read_sounding_csv(vsfile, verbose=1)\n",
    "    stdata = read_sounding_csv(stfile, verbose=1)\n",
    "    data = vsdata.merge(stdata, on='P', suffixes=('_vs', '_st'))\n",
    "    data = data.loc[:,['P','H_vs','T_vs','RH_vs','U_vs','V_vs', \n",
    "                       'H_st', 'T_st', 'RH_st', 'U_st', 'V_st']]\n",
    "    data['time'] = timestamp\n",
    "    data['key'] = data['time'] + '_' + data['P'].astype('str')\n",
    "    return(data)\n",
    "\n",
    "data = create_aligned_data(datafiles.iloc[0]['time'],datafiles.iloc[0]['uri_vs'], datafiles.iloc[0]['uri_st'])\n",
    "print(data.shape)\n",
    "print(data.head())\n"
   ]
  },
  {
   "cell_type": "markdown",
   "metadata": {},
   "source": [
    "### 校驗目標\n",
    "\n",
    "我們進行資料校驗的目的，是要將 storm tracker 的紀錄調整成近似 Vaisala，我們有以下假設：\n",
    "\n",
    "1. Vasala 的資料經過長期使用，已經被視為標準，我們假設這組資料是真實的觀測值。\n",
    "2. 我們假設 storm-tracker 和 Vaisala 的氣壓值（P）是一致的，誤差主要發生在溫度（T）和濕度（RH）。\n",
    "3. 高度（H）值是透過 P, T, RH 的公式換算來的，因此不直接校正。\n",
    "4. 風場（U,V）是由 GPS 定位換算，故在此階段不校驗。\n",
    "\n",
    "因此，我們實際上要利用 P, T_st, RH_st (或許再加上 U_st, V_st）來預測：\n",
    "- **$\\triangle T$** = T_vs - T_st\n",
    "- **$\\triangle RH$** = RH_vs - RH_st\n",
    "\n",
    "接下來，我們要製作包含 $\\triangle T$ 和 $\\triangle RH$ 的資料集。"
   ]
  },
  {
   "cell_type": "code",
   "execution_count": 7,
   "metadata": {},
   "outputs": [
    {
     "name": "stdout",
     "output_type": "stream",
     "text": [
      "                     P       T_st      RH_st      U_st      V_st\n",
      "key                                                             \n",
      "20180625_06_1000  1000  33.504632  62.417895 -1.217775 -1.217775\n",
      "20180625_06_999    999  33.362504  62.662493  2.042479  2.042479\n",
      "20180625_06_998    998  33.183320  63.166699  5.502851  5.502851\n",
      "20180625_06_997    997  33.025238  63.756463  1.987596  1.987596\n",
      "20180625_06_996    996  32.892530  64.291565  6.566753  6.566753\n",
      "                        dT       dRH\n",
      "key                                 \n",
      "20180625_06_1000 -2.004632  0.502106\n",
      "20180625_06_999  -1.962504  0.437507\n",
      "20180625_06_998  -1.863320  0.013301\n",
      "20180625_06_997  -1.825238 -0.256463\n",
      "20180625_06_996  -1.792530 -0.566564\n"
     ]
    }
   ],
   "source": [
    "# Create dataset with X(input) and Y(output)\n",
    "def create_iodata(timestamp, vsfile, stfile):\n",
    "    # Read in ST and VS data\n",
    "    vsdata = read_sounding_csv(vsfile, verbose=0)\n",
    "    stdata = read_sounding_csv(stfile, verbose=0)\n",
    "    # Align two dataset with P\n",
    "    data = vsdata.merge(stdata, on='P', suffixes=('_vs', '_st'))\n",
    "    # Insert unique keys for indexing\n",
    "    data['key'] = timestamp + '_' + data['P'].astype('str')\n",
    "    # Calculate delta_T and delta_RH\n",
    "    data['dT'] = (data['T_vs'] - data['T_st'])\n",
    "    data['dRH'] = (data['RH_vs'] - data['RH_st'])\n",
    "    #\n",
    "    X = data.loc[:,['key','P','T_st','RH_st','U_st','V_st']]\n",
    "    X.set_index('key', inplace=True)\n",
    "    Y = data.loc[:,['key','dT','dRH']]\n",
    "    Y.set_index('key', inplace=True)\n",
    "    return((X,Y))\n",
    "\n",
    "x,y = create_iodata(datafiles.iloc[0]['time'],datafiles.iloc[0]['uri_vs'], datafiles.iloc[0]['uri_st'])\n",
    "\n",
    "print(x.head())\n",
    "print(y.head())"
   ]
  },
  {
   "cell_type": "code",
   "execution_count": 9,
   "metadata": {},
   "outputs": [
    {
     "data": {
      "image/png": "[encoded data removed]",
      "text/plain": [
       "<Figure size 432x288 with 1 Axes>"
      ]
     },
     "metadata": {
      "needs_background": "light"
     },
     "output_type": "display_data"
    }
   ],
   "source": [
    "%matplotlib inline\n",
    "import matplotlib.pyplot as plt\n",
    "\n",
    "plt.plot(y['dT'], '-b', label='dT')\n",
    "plt.plot(y['dRH'], '.r', label='dRH')\n",
    "plt.gca().axes.get_xaxis().set_visible(False)\n",
    "plt.legend()\n",
    "plt.show()"
   ]
  },
  {
   "cell_type": "code",
   "execution_count": null,
   "metadata": {},
   "outputs": [],
   "source": []
  }
 ],
 "metadata": {
  "kernelspec": {
   "display_name": "Python 3",
   "language": "python",
   "name": "python3"
  },
  "language_info": {
   "codemirror_mode": {
    "name": "ipython",
    "version": 3
   },
   "file_extension": ".py",
   "mimetype": "text/x-python",
   "name": "python",
   "nbconvert_exporter": "python",
   "pygments_lexer": "ipython3",
   "version": "3.7.9"
  }
 },
 "nbformat": 4,
 "nbformat_minor": 4
}
